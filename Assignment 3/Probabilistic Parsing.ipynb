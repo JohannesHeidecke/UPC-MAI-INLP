{
 "cells": [
  {
   "cell_type": "code",
   "execution_count": 115,
   "metadata": {
    "collapsed": false
   },
   "outputs": [
    {
     "name": "stdout",
     "output_type": "stream",
     "text": [
      "Most common NP-sequences:\n",
      "\n",
      "[('(-NONE-,)', 195), ('(DT, NN)', 140), ('(PRP,)', 74), ('(NNP, NNP)', 72), ('(NNP, NNP, NNP)', 65), ('(NNS,)', 63), ('(NNP,)', 55), ('(NN,)', 51), ('(DT, JJ, NN)', 48), ('(QP, -NONE-)', 44)]\n",
      "\n",
      "\n",
      "\n",
      "Histogram of NP-sequence lengths\n"
     ]
    },
    {
     "data": {
      "image/png": "[encoded data removed]",
      "text/plain": [
       "<matplotlib.figure.Figure at 0x110d21f60>"
      ]
     },
     "metadata": {},
     "output_type": "display_data"
    },
    {
     "name": "stdout",
     "output_type": "stream",
     "text": [
      "True Positives: 2606\n",
      "False Positives: 206\n"
     ]
    }
   ],
   "source": [
    "from nltk.corpus import treebank\n",
    "from nltk.tree import Tree\n",
    "from nltk.tree import ParentedTree\n",
    "from collections import Counter\n",
    "import matplotlib.pyplot as plt\n",
    "import numpy as np\n",
    "import matplotlib.mlab as mlab\n",
    "\n",
    "\n",
    "\n",
    "# open questions:\n",
    "# > should we only look for 'NP' or also for 'NP-SBJ' and so on?\n",
    "\n",
    "\n",
    "# file ids of the treebank:\n",
    "fileIds = treebank.fileids()\n",
    "\n",
    "# list of all non-recursive sequences for NP:\n",
    "nprhss = []\n",
    "allrhss = []\n",
    "lengths = []  \n",
    "for fileId in fileIds:\n",
    "    \n",
    "    tree = treebank.parsed_sents(fileId)[0]\n",
    "    productions = tree.productions()\n",
    "    \n",
    "    for production in productions:\n",
    "        \n",
    "        lhs = production.lhs()\n",
    "        rhs = production.rhs()\n",
    "\n",
    "        if str(lhs).startswith('NP'):\n",
    "            # check if rhs is recursive (contains another NP):\n",
    "            isRecursive = False\n",
    "            for el in rhs:\n",
    "                if str(el).startswith('NP'):\n",
    "                    isRecursive = True\n",
    "            if  not isRecursive: \n",
    "                # only add non-recursive rhs:\n",
    "                nprhss.append(str(rhs))\n",
    "                # save rhs lengths for histogram:\n",
    "                lengths.append(len(rhs))\n",
    "        \n",
    "        # add all rhs found to allrhss\n",
    "        allrhss.append(str(rhs))\n",
    "\n",
    "npGrammar = Counter(nprhss)\n",
    "allGrammar = Counter(allrhss)\n",
    "\n",
    "# create a probabilistic grammar (PCFG) based on relative frequency:\n",
    "probNpGrammar = Counter()\n",
    "for rule in npGrammar:\n",
    "    probNpGrammar[rule] = npGrammar[rule]/len(nprhss)\n",
    "    \n",
    "# calculate conditional probabilities P(NP|sequence):\n",
    "# for any sequence that is a NP at least one:\n",
    "# (number of times this sequence was a NP) / (number of times this sequence occurred)\n",
    "probNpGivenSequence = Counter()\n",
    "for rule in npGrammar:\n",
    "    # also count the length of the NP-sequences\n",
    "    probNpGivenSequence[rule] = npGrammar[rule] / allGrammar[rule]\n",
    "\n",
    "print('Most common NP-sequences:\\n')\n",
    "print(npGrammar.most_common(10))\n",
    "\n",
    "shortestNpSeq = np.min(lengths)\n",
    "longestNpSeq = np.max(lengths)\n",
    "print('\\n\\n\\nHistogram of NP-sequence lengths')\n",
    "plt.hist(lengths, (longestNpSeq - shortestNpSeq + 1))\n",
    "plt.show()\n",
    "\n",
    "# # # # # # # # # # # # # # # # #\n",
    "\n",
    "truePositives = 0\n",
    "falsePositives = 0\n",
    "\n",
    "npProbThreshold = 0.8\n",
    "\n",
    "for fileId in fileIds:\n",
    "    tree = treebank.parsed_sents(fileId)[0]\n",
    "    ptree = ParentedTree.fromstring(str(tree))\n",
    "    leaves = ptree.leaves()\n",
    "\n",
    "    poss = []\n",
    "    for leaf in leaves:\n",
    "        leafIndex = leaves.index(leaf)\n",
    "        treeLocation = ptree.leaf_treeposition(leafIndex)\n",
    "        leaveParent = str(ptree[treeLocation[:-1]]).split(\" \")\n",
    "        pos = leaveParent[0][1:]\n",
    "        poss.append(pos)\n",
    "\n",
    "    startPos = 0  \n",
    "    while startPos < len(poss):\n",
    "        longestNpLength = 0\n",
    "        longestNp = None\n",
    "        for endPos in range(startPos, len(poss)):\n",
    "            if (endPos - startPos + 1) > longestNpSeq:\n",
    "                break\n",
    "            sequence = '(' + poss[startPos]\n",
    "            if startPos == endPos:\n",
    "                sequence = sequence + ','\n",
    "            else:\n",
    "                for seqPos in range(startPos+1, endPos +1):\n",
    "                    sequence = sequence + ', ' + poss[seqPos]\n",
    "            sequence = sequence + ')'\n",
    "            if probNpGivenSequence[sequence] > npProbThreshold:\n",
    "                longestNpLength = endPos - startPos\n",
    "                longestNp = sequence\n",
    "                longestNpLeaves = leaves[startPos:endPos+1]\n",
    "                longesNpProb = probNpGivenSequence[sequence]\n",
    "        # TODO: comment next line?\n",
    "        startPos = startPos + longestNpLength\n",
    "        startPos = startPos + 1\n",
    "        if longestNp != None:\n",
    "            correctlyChunked = True\n",
    "            for leaf in longestNpLeaves:\n",
    "                leafIndex = leaves.index(leaf)\n",
    "                treeLocation = ptree.leaf_treeposition(leafIndex)\n",
    "                leaveParent = str(ptree[treeLocation[:-2]]).split(\" \")\n",
    "                pos = leaveParent[0][1:]\n",
    "                if not str(pos).startswith('NP'):\n",
    "                    correctlyChunked = False\n",
    "            if correctlyChunked:\n",
    "                truePositives = truePositives + longestNpLength\n",
    "            else:\n",
    "                falsePositives = falsePositives + longestNpLength\n",
    "        \n",
    "    \n",
    "print('True Positives: ' + str(truePositives))   \n",
    "print('False Positives: ' + str(falsePositives))\n",
    "        \n",
    "        \n",
    "        \n",
    "\n",
    "        "
   ]
  },
  {
   "cell_type": "code",
   "execution_count": null,
   "metadata": {
    "collapsed": false
   },
   "outputs": [],
   "source": []
  },
  {
   "cell_type": "code",
   "execution_count": 74,
   "metadata": {
    "collapsed": false,
    "scrolled": true
   },
   "outputs": [
    {
     "name": "stdout",
     "output_type": "stream",
     "text": [
      "2\n",
      "('A', 'B')\n"
     ]
    }
   ],
   "source": [
    "tup = ('A', 'B')\n",
    "print(len(tup))\n",
    "\n",
    "print(tup)"
   ]
  },
  {
   "cell_type": "code",
   "execution_count": null,
   "metadata": {
    "collapsed": false
   },
   "outputs": [],
   "source": []
  },
  {
   "cell_type": "code",
   "execution_count": null,
   "metadata": {
    "collapsed": true
   },
   "outputs": [],
   "source": []
  }
 ],
 "metadata": {
  "anaconda-cloud": {},
  "kernelspec": {
   "display_name": "Python [conda env:anaconda3]",
   "language": "python",
   "name": "conda-env-anaconda3-py"
  },
  "language_info": {
   "codemirror_mode": {
    "name": "ipython",
    "version": 3
   },
   "file_extension": ".py",
   "mimetype": "text/x-python",
   "name": "python",
   "nbconvert_exporter": "python",
   "pygments_lexer": "ipython3",
   "version": "3.5.2"
  }
 },
 "nbformat": 4,
 "nbformat_minor": 1
}
